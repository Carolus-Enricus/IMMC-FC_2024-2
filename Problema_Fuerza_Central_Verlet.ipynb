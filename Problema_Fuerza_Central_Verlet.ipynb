{
 "cells": [
  {
   "cell_type": "markdown",
   "id": "0315c98e-93b0-428c-916d-501591de502e",
   "metadata": {},
   "source": [
    "En coordenadas cartesianas, las ecuaciones que describen la trayectoria de un cuerpo en presencia de una fuerza central son las siguientes:\n",
    "\n",
    "$$ x'' = -\\dfrac{GM}{r^3}x = S_x(x,y) $$\n",
    "$$ y'' = -\\dfrac{GM}{r^3}y = S_y(x,y) $$\n",
    "\n",
    "en donde $r^2 = x^2 + y^2$, $G$ es la constante de gravitación universal y $M$ la masa del cuerpo grandote, tan grandote que produce el campo de fuerzas y el centro de masa está practicamente en su posición. Para la resolución numérica de estas ecuaciones hay que establcer las condiciones al tiempo $t=0$:\n",
    "\n",
    "Posiciones iniciales: $x(0) = x_0$, $y(0) = 0$\n",
    "\n",
    "Velocidades iniciales: $x'(0) = 0$, $y'(0) = y'_0$\n",
    "\n",
    "Además de estos datos hay que determinar los valores de $G$ y $M$\n",
    "\n",
    "Consideremos el siguiente cambio de variable\n",
    "\n",
    "$$ \\tilde{t} = \\sqrt{\\dfrac{GM}{r_0^3}}t \\qquad x = r_0\\tilde{x}; \\qquad y = r_0\\tilde{y} $$\n",
    "\n",
    "Tenemos así un nuevo sistema \n",
    "\n",
    "$$ \\tilde{x}'' = -\\dfrac{\\tilde{x}}{\\tilde{r}^3} = S_x(\\tilde{x},\\tilde{y}) $$\n",
    "$$ \\tilde{y}'' = -\\dfrac{\\tilde{y}}{\\tilde{r}^3} = S_y(\\tilde{x},\\tilde{y}) $$\n",
    "\n",
    "que, para ser resuelto requiere de las siguientes condiciones iniciales:\n",
    "\n",
    "Posiciones iniciales: $\\tilde{x}(0) = 1$, $\\tilde{y}(0) = 0$\n",
    "\n",
    "Velocidades iniciales: $\\tilde{x}'(0) = 0$, $\\tilde{y}'(0) = \\sqrt{\\dfrac{r_0}{GM}}y'_0$\n",
    "\n",
    "Este último es el sistema que vamos a resolver.\n",
    "\n",
    "Para calcular el tiempo final tomaré un periordo de un año en segundos y aplicaré la ecuación de cambio de variable temporal. Para la velocidad inicial consideraré que la tierra se traslada aproximadamente a $30$ $km$ por segundo."
   ]
  },
  {
   "cell_type": "code",
   "execution_count": 1,
   "id": "538a6182-a661-42f7-bee9-44fbbe02e6a8",
   "metadata": {},
   "outputs": [
    {
     "name": "stdout",
     "output_type": "stream",
     "text": [
      "Tiempo FInal aproximado:  6.280219042890066\n",
      "Velocidad Inicial:  1.007109189498877\n"
     ]
    }
   ],
   "source": [
    "from math import sqrt\n",
    "import matplotlib.pyplot as plt\n",
    "\n",
    "#------------------------------------------------#\n",
    "#---Parámetros físicos y condiciones iniciales---#\n",
    "#------------------------------------------------#\n",
    "G = 6.674 * 10**(-11) # Constante de Gravitación Universal\n",
    "M = 1.989 * 10**30 # La masota del cuerpo grandote. Masa del sol\n",
    "p0 = 1.496*10**(11) # Posición inicial física. Que coincide con x_0. Una unidad astronómica.\n",
    "v0 = 30000 # Velocidad inicial\n",
    "\n",
    "# Tiempo final considerando 365 días\n",
    "print(\"Tiempo FInal aproximado: \", sqrt((G*M)/p0**3)*(3.154*10**(7)))\n",
    "print(\"Velocidad Inicial: \", sqrt(p0/(G*M))*v0)"
   ]
  },
  {
   "cell_type": "code",
   "execution_count": 4,
   "id": "19c9f539-92b1-4cc9-93e6-e0d1e5a87252",
   "metadata": {},
   "outputs": [
    {
     "data": {
      "image/png": "[encoded data removed]",
      "text/plain": [
       "<Figure size 400x400 with 1 Axes>"
      ]
     },
     "metadata": {},
     "output_type": "display_data"
    }
   ],
   "source": [
    "#--------------------------------------------#\n",
    "#---Las Ecuaciones y sus Valores Iniciales---#\n",
    "#--------------------------------------------#\n",
    "\n",
    "def S_x(x,y):\n",
    "    r = sqrt(x**2+y**2)\n",
    "    return -x/(r**3)\n",
    "\n",
    "def S_y(x,y):\n",
    "    r = sqrt(x**2+y**2)\n",
    "    return -y/(r**3)\n",
    "\n",
    "# Posiciones iniciales al tiempo inicial\n",
    "t0 = 0.0\n",
    "x0 = 1.0\n",
    "y0 = 0.0\n",
    "\n",
    "# Velocidades iniciales\n",
    "vx0 = 0.0\n",
    "vy0 = sqrt(p0/(G*M))*v0 # Aproximadamente igual a 1\n",
    "\n",
    "#-------------#\n",
    "#---Dominio---#\n",
    "#-------------#\n",
    "\n",
    "tf = 6 # Duración de la solución\n",
    "h = 0.01\n",
    "N = int(tf/h) # Número de pasos temporales\n",
    "\n",
    "Tiempo = [t0]\n",
    "X = [x0]\n",
    "Y = [y0]\n",
    "\n",
    "# Esto es un elemento del algoritmo de Verlet\n",
    "x_1 = x0 - h*vx0 + 0.5*h**2 * S_x(x0,y0)\n",
    "y_1 = y0 - h*vy0 + 0.5*h**2 * S_y(x0,y0)\n",
    "\n",
    "for n in range(N+1):\n",
    "    t = t0 + n*h\n",
    "    x1 = 2*x0 - x_1 + h**2*S_x(x0,y0)\n",
    "    y1 = 2*y0 - y_1 + h**2*S_y(x0,y0)\n",
    "    Tiempo.append(t)\n",
    "    X.append(x1)\n",
    "    Y.append(y1)\n",
    "    x_1 = x0\n",
    "    y_1 = y0\n",
    "    x0 = x1\n",
    "    y0 = y1\n",
    "\n",
    "X_real = [p0*i for i in X]\n",
    "Y_real = [p0*i for i in Y]\n",
    "\n",
    "plt.figure(figsize=(4, 4))\n",
    "plt.plot(X_real,Y_real)\n",
    "\n",
    "# Agregar etiquetas a los ejes\n",
    "plt.xlabel('x')\n",
    "plt.ylabel(\"y\")\n",
    "\n",
    "# Agregar un título a la gráfica\n",
    "plt.title('Órbita')\n",
    "plt.show()"
   ]
  },
  {
   "cell_type": "code",
   "execution_count": null,
   "id": "37939d00-d6a3-4151-b4ef-6b474a17bbcc",
   "metadata": {},
   "outputs": [],
   "source": []
  }
 ],
 "metadata": {
  "kernelspec": {
   "display_name": "Python 3 (ipykernel)",
   "language": "python",
   "name": "python3"
  },
  "language_info": {
   "codemirror_mode": {
    "name": "ipython",
    "version": 3
   },
   "file_extension": ".py",
   "mimetype": "text/x-python",
   "name": "python",
   "nbconvert_exporter": "python",
   "pygments_lexer": "ipython3",
   "version": "3.12.2"
  }
 },
 "nbformat": 4,
 "nbformat_minor": 5
}
