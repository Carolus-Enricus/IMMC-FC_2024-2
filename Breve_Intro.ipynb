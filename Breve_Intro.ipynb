{
  "cells": [
    {
      "cell_type": "markdown",
      "metadata": {
        "id": "view-in-github",
        "colab_type": "text"
      },
      "source": [
        "<a href=\"https://colab.research.google.com/github/Carolus-Enricus/IMMC-FC_2024-2/blob/main/Breve_Intro.ipynb\" target=\"_parent\"><img src=\"https://colab.research.google.com/assets/colab-badge.svg\" alt=\"Open In Colab\"/></a>"
      ]
    },
    {
      "cell_type": "code",
      "execution_count": null,
      "id": "13d85b1e",
      "metadata": {
        "id": "13d85b1e"
      },
      "outputs": [],
      "source": [
        "a = 4      # Tipo Entero\n",
        "b = \"Hola\" # Tipo Cadena\n",
        "c = 0.5    # Tipo Flotante\n",
        "d = True   # Tipo Booleano\n",
        "\n",
        "# Nota: El símbolo \"=\" debe entenderse como \"asignar\"."
      ]
    },
    {
      "cell_type": "markdown",
      "id": "5702fbf2",
      "metadata": {
        "id": "5702fbf2"
      },
      "source": [
        "<h1 style=\"text-align: center;\"> Breve Introducción a Python</h1>\n",
        "\n",
        "El objetivo de esta notebook es mostrar cómo la programación es una valiosa herramienta que puede ayudarnos en el curso de Introducción Matemática a la Mecánica Celeste.\n",
        "\n",
        "![Patito](https://github.com/Carolus-Enricus/IMMC-FC_2024-2/blob/main/patito.jpeg?raw=1)\n",
        "\n",
        "### 1) Tipos de Datos"
      ]
    },
    {
      "cell_type": "code",
      "execution_count": null,
      "id": "a6493cd1",
      "metadata": {
        "id": "a6493cd1",
        "outputId": "14b96df0-2e57-4ac6-bf52-3956be8abf8c"
      },
      "outputs": [
        {
          "name": "stdout",
          "output_type": "stream",
          "text": [
            "¡Hola, Mundo!\n",
            "4\n",
            "Hola 0.5 True\n"
          ]
        },
        {
          "data": {
            "text/plain": [
              "float"
            ]
          },
          "execution_count": 49,
          "metadata": {},
          "output_type": "execute_result"
        }
      ],
      "source": [
        "# La función print imprime el objeto entre paréntesis (puede ser más de un objeto).\n",
        "\n",
        "print(\"¡Hola, Mundo!\")\n",
        "print(a)\n",
        "print(b,c,d)\n",
        "\n",
        "# Con la función type, podemos saber qué tipo de dato es un objeto\n",
        "\n",
        "type(c)"
      ]
    },
    {
      "cell_type": "markdown",
      "id": "ecc92fe0",
      "metadata": {
        "id": "ecc92fe0"
      },
      "source": [
        "### 2) Operaciones"
      ]
    },
    {
      "cell_type": "code",
      "execution_count": null,
      "id": "fede923f",
      "metadata": {
        "id": "fede923f",
        "outputId": "be3c0937-c674-49c6-de46-2bc832bcad84"
      },
      "outputs": [
        {
          "name": "stdout",
          "output_type": "stream",
          "text": [
            "7.3\n",
            "-1.5\n",
            "5.0\n",
            "8.0\n",
            "16\n",
            "True False\n",
            "False True\n",
            "1\n",
            "1.5\n"
          ]
        }
      ],
      "source": [
        "# Básicas\n",
        "\n",
        "print(a + 3.3) # Suma\n",
        "print(c - 2)   # Resta\n",
        "print(10*c)    # Multiplicación\n",
        "print(a/c)     # División\n",
        "print(2**a)    # Exponenciación\n",
        "\n",
        "# Condicionales\n",
        "\n",
        "print(a>c,a<c)          # Mayor y Menor que\n",
        "print(a==c,a==4) # Igualdad\n",
        "\n",
        "#Modulo\n",
        "\n",
        "print(a%3)   # Modulo o Residuo\n",
        "\n",
        "print(0.5*15%3) # La jerarquía coloca primero a la multiplicación antes que al módulo"
      ]
    },
    {
      "cell_type": "markdown",
      "id": "aa6358a6",
      "metadata": {
        "id": "aa6358a6"
      },
      "source": [
        "### 3) Listas, rangos, diccionarios, tuplas, conjuntos, etc."
      ]
    },
    {
      "cell_type": "code",
      "execution_count": null,
      "id": "8d00bc02",
      "metadata": {
        "id": "8d00bc02",
        "outputId": "086ef110-871f-46d0-c28c-48b3eabcb3e6"
      },
      "outputs": [
        {
          "name": "stdout",
          "output_type": "stream",
          "text": [
            "[4, 'Hola', 0.5, True]\n",
            "<class 'list'>\n",
            "4 Hola True 0.5\n",
            "Hay:  4\n"
          ]
        }
      ],
      "source": [
        "lista = [a,b,c,d]\n",
        "print(lista)\n",
        "print(type(lista))\n",
        "\n",
        "# Se accede a los elementos de una lista utilizando corchetes. En Python los índices inician en 0\n",
        "print(lista[0], lista[1], lista[-1], lista[-2])\n",
        "\n",
        "# ¿Cuántos elementos hay en una lista?\n",
        "print(\"Hay: \", len(lista))"
      ]
    },
    {
      "cell_type": "code",
      "execution_count": null,
      "id": "d329ee96",
      "metadata": {
        "id": "d329ee96",
        "outputId": "c54a8a49-af02-4420-efb3-525a5b83c377"
      },
      "outputs": [
        {
          "name": "stdout",
          "output_type": "stream",
          "text": [
            "[[3, 4, 'Johannes', 6.1], [1, 3, 'Kepler', 2.4]]\n",
            "meta_lista contiene 2 elementos\n",
            "[1, 3, 'Kepler', 2.4]\n",
            "Kepler\n"
          ]
        }
      ],
      "source": [
        "# Lista de listas o metalista\n",
        "lista1=[3,4,\"Johannes\", 6.1]\n",
        "lista2=[1,3,\"Kepler\", 2.4]\n",
        "\n",
        "meta_lista = [lista1,lista2]\n",
        "\n",
        "print(meta_lista)\n",
        "print(\"meta_lista contiene\", len(meta_lista), \"elementos\")\n",
        "\n",
        "# Para acceder a los elementos utilizamos dos veces lo de los corchetes:\n",
        "print(meta_lista[1])\n",
        "print(meta_lista[1][2])"
      ]
    },
    {
      "cell_type": "code",
      "execution_count": null,
      "id": "79731898",
      "metadata": {
        "id": "79731898",
        "outputId": "ae41b614-bad5-49b4-929e-ffd7dce9d441"
      },
      "outputs": [
        {
          "name": "stdout",
          "output_type": "stream",
          "text": [
            "[3, 4, 'Johannes', 6.1, 3, 4, 'Johannes', 6.1, 3, 4, 'Johannes', 6.1]\n",
            "[3, 4, 'Johannes', 6.1, 1, 3, 'Kepler', 2.4]\n"
          ]
        }
      ],
      "source": [
        "# Operaciones con listas\n",
        "\n",
        "print(3*lista1)\n",
        "print(lista1+lista2)\n",
        "#print(lista1*lista2)"
      ]
    },
    {
      "cell_type": "code",
      "execution_count": null,
      "id": "c66490e2",
      "metadata": {
        "id": "c66490e2",
        "outputId": "4e7adef0-2c45-4f3c-b6e0-c301615e9f78"
      },
      "outputs": [
        {
          "name": "stdout",
          "output_type": "stream",
          "text": [
            "['N', 'e', 'w', 't', 'o', 'n']\n"
          ]
        }
      ],
      "source": [
        "# La función \"list\" hace de un objeto una lista. Ejemplo:\n",
        "\n",
        "cadena = \"Newton\"\n",
        "print(list(cadena))"
      ]
    },
    {
      "cell_type": "code",
      "execution_count": null,
      "id": "73ad6f57",
      "metadata": {
        "id": "73ad6f57",
        "outputId": "70a42792-054e-4006-abfb-c6784861c08b"
      },
      "outputs": [
        {
          "name": "stdout",
          "output_type": "stream",
          "text": [
            "[0, 2, 4, 6, 8]\n"
          ]
        }
      ],
      "source": [
        "# La función \"range\" genera una secuencia de números enteros.\n",
        "# Es muy útil en bucles y otras situaciones donde necesitas iterar sobre un rango de valores.\n",
        "# Su sintáxis básica es range(start, stop, step)\n",
        "\n",
        "lrange = list(range(0, 10, 2))\n",
        "\n",
        "print(lrange)"
      ]
    },
    {
      "cell_type": "code",
      "execution_count": null,
      "id": "bb399ef2",
      "metadata": {
        "id": "bb399ef2",
        "outputId": "7757c9d4-f2df-4689-beba-ea5e9b3d68f5"
      },
      "outputs": [
        {
          "name": "stdout",
          "output_type": "stream",
          "text": [
            "Juan\n",
            "30\n",
            "dict_keys(['nombre', 'edad', 'ciudad'])\n",
            "dict_values(['Juan', 30, 'Juárez'])\n",
            "dict_items([('nombre', 'Juan'), ('edad', 30), ('ciudad', 'Juárez')])\n"
          ]
        }
      ],
      "source": [
        "# Diccionarios\n",
        "diccionario = {\"nombre\": \"Juan\", \"edad\": 30, \"ciudad\": \"Juárez\"}\n",
        "print(diccionario[\"nombre\"])\n",
        "print(diccionario[\"edad\"])\n",
        "\n",
        "print(diccionario.keys())\n",
        "print(diccionario.values())\n",
        "print(diccionario.items())"
      ]
    },
    {
      "cell_type": "code",
      "execution_count": null,
      "id": "e130c473",
      "metadata": {
        "id": "e130c473",
        "outputId": "1b5134f4-b527-4925-8719-d303f3b8e817"
      },
      "outputs": [
        {
          "name": "stdout",
          "output_type": "stream",
          "text": [
            "[3, 4, 'Isaac', 6.1]\n",
            "[3, 4, 'Isaac', 6.1]\n",
            "(1, 2, 'Hola', 3.14)\n",
            "2\n"
          ]
        }
      ],
      "source": [
        "# Tuplas\n",
        "# Las tuplas son como listas pero entre paréntesis. Otra diferencia es que son inmutables\n",
        "tupla = (1, 2, \"Hola\", 3.14)\n",
        "\n",
        "print(lista1)\n",
        "lista1[2] = \"Isaac\"\n",
        "print(lista1)\n",
        "\n",
        "print(tupla)\n",
        "print(tupla[1])\n",
        "#tupla[1] = 3"
      ]
    },
    {
      "cell_type": "code",
      "execution_count": null,
      "id": "9bad8224",
      "metadata": {
        "id": "9bad8224",
        "outputId": "38fe80eb-815a-4c97-eb12-328f5287b93a"
      },
      "outputs": [
        {
          "name": "stdout",
          "output_type": "stream",
          "text": [
            "{1, 2, 3, 4, 5}\n",
            "{2, 3, 4, 5}\n"
          ]
        }
      ],
      "source": [
        "# Conjuntos\n",
        "# Es una colección desordenada de elementos únicos. No permiten elementos duplicados y no tienen un orden definido.\n",
        "\n",
        "lista_ejemplo = [1, 2, 3, 3, 4, 5, 5]\n",
        "conjunto = set(lista_ejemplo)\n",
        "print(conjunto)\n",
        "# print(conjunto[2])\n",
        "\n",
        "# Pueden crearse con llaves {}\n",
        "\n",
        "conjunto_primavera = {3,2,4,5,3}\n",
        "print(conjunto_primavera)"
      ]
    },
    {
      "cell_type": "code",
      "execution_count": null,
      "id": "2af1bda6",
      "metadata": {
        "id": "2af1bda6",
        "outputId": "186507d6-fef4-475b-fd35-e28e5372712e"
      },
      "outputs": [
        {
          "name": "stdout",
          "output_type": "stream",
          "text": [
            "{1, 2, 3, 4, 5}\n",
            "{3}\n",
            "{1, 2}\n"
          ]
        }
      ],
      "source": [
        "# Operaciones entre conjuntos\n",
        "\n",
        "A= {1, 2, 3}\n",
        "B = {3, 4, 5}\n",
        "\n",
        "# Unión\n",
        "union = A | B  # o también: union = a.union(b)\n",
        "print(union)\n",
        "\n",
        "# Intersección\n",
        "interseccion = A & B  # o también: interseccion = a.intersection(b)\n",
        "print(interseccion)\n",
        "\n",
        "# Diferencia\n",
        "diferencia = A - B  # o también: diferencia = a.difference(b)\n",
        "print(diferencia)\n"
      ]
    },
    {
      "cell_type": "markdown",
      "id": "f378b651",
      "metadata": {
        "id": "f378b651"
      },
      "source": [
        "### 4) Ciclos\n"
      ]
    },
    {
      "cell_type": "code",
      "execution_count": null,
      "id": "2f6f46b2",
      "metadata": {
        "id": "2f6f46b2",
        "outputId": "c2e4baf0-f8df-48bd-e955-6a62d469db35"
      },
      "outputs": [
        {
          "name": "stdout",
          "output_type": "stream",
          "text": [
            "0\n",
            "1\n",
            "2\n",
            "3\n"
          ]
        }
      ],
      "source": [
        "# Un ciclo for se utiliza para iterar sobre una secuencia de elementos, como una lista, tupla, cadena, etc.\n",
        "for i in range(4):\n",
        "    print(i)"
      ]
    },
    {
      "cell_type": "code",
      "execution_count": null,
      "id": "ed7e406d",
      "metadata": {
        "id": "ed7e406d",
        "outputId": "37bd52c7-7ff1-4b04-b3ad-af103eeff494"
      },
      "outputs": [
        {
          "name": "stdout",
          "output_type": "stream",
          "text": [
            "[1, 3, 5, 7, 9]\n",
            "[2, 4, 6, 8, 10]\n",
            "La longitus de tus listas es de 5\n",
            "2\n",
            "12\n",
            "30\n",
            "56\n",
            "90\n"
          ]
        }
      ],
      "source": [
        "l1 = [j for j in range(1,10,2)]\n",
        "l2 = [j for j in range(2,11,2)]\n",
        "print(l1)\n",
        "print(l2)\n",
        "print(\"La longitus de tus listas es de\", len(l1))\n",
        "\n",
        "for i in range(len(l1)):\n",
        "    print(l1[i]*l2[i])"
      ]
    },
    {
      "cell_type": "code",
      "execution_count": null,
      "id": "a9434b8c",
      "metadata": {
        "id": "a9434b8c",
        "outputId": "8dc2055b-f955-44b8-fb70-5cd944a55bd7"
      },
      "outputs": [
        {
          "name": "stdout",
          "output_type": "stream",
          "text": [
            "[2, 12, 30, 56, 90]\n"
          ]
        }
      ],
      "source": [
        "l3 = []\n",
        "for i in range(len(l1)):\n",
        "    l3.append(l1[i]*l2[i])\n",
        "print(l3)"
      ]
    },
    {
      "cell_type": "markdown",
      "id": "0bc382de",
      "metadata": {
        "id": "0bc382de"
      },
      "source": [
        "#### Python es un lenguaje identado\n",
        "A diferencia de otros lenguajes de programación que utilizan llaves {} o palabras clave como begin y end para delimitar bloques de código, en Python se utiliza la identación (generalmente espacios o tabulaciones) para indicar la pertenencia de un conjunto de instrucciones a un bloque específico."
      ]
    },
    {
      "cell_type": "code",
      "execution_count": null,
      "id": "2db25597",
      "metadata": {
        "id": "2db25597",
        "outputId": "a10d72a9-aa85-4c1d-ea6b-eafe1cad4655"
      },
      "outputs": [
        {
          "name": "stdout",
          "output_type": "stream",
          "text": [
            "Iteración 0\n",
            "Iteración 1\n",
            "Iteración 2\n",
            "Iteración 3\n",
            "Iteración 4\n",
            "Fuera del ciclo\n"
          ]
        }
      ],
      "source": [
        "for i in range(5):\n",
        "    print(\"Iteración\", i)\n",
        "print(\"Fuera del ciclo\")"
      ]
    },
    {
      "cell_type": "markdown",
      "id": "1dcd873e",
      "metadata": {
        "id": "1dcd873e"
      },
      "source": [
        "### 5) Condicionales"
      ]
    },
    {
      "cell_type": "code",
      "execution_count": null,
      "id": "a504ca84",
      "metadata": {
        "id": "a504ca84",
        "outputId": "eeaaf958-ac72-4dbe-e018-d61e6c0c06e0"
      },
      "outputs": [
        {
          "name": "stdout",
          "output_type": "stream",
          "text": [
            "Introduce un número 10\n",
            "Tu número es 10\n"
          ]
        }
      ],
      "source": [
        "numero = float(input(\"Introduce un número \"))\n",
        "\n",
        "if numero < 10:\n",
        "    print(\"Tu número es menor a 10\")\n",
        "elif numero > 10:\n",
        "    print(\"Tu número es mayor a 10\")\n",
        "else:\n",
        "    print(\"Tu número es 10\")"
      ]
    },
    {
      "cell_type": "code",
      "execution_count": null,
      "id": "7e06cdbd",
      "metadata": {
        "id": "7e06cdbd",
        "outputId": "d92edcbd-1f6e-4657-e9e8-a9da1f652e63"
      },
      "outputs": [
        {
          "name": "stdout",
          "output_type": "stream",
          "text": [
            "El contador es: 0\n",
            "El contador es: 1\n",
            "El contador es: 2\n",
            "El contador es: 3\n",
            "El contador es: 4\n"
          ]
        }
      ],
      "source": [
        "# El while funciona siempre que la condición sea verdaderab\n",
        "contador = 0\n",
        "while contador < 5:\n",
        "    print(\"El contador es:\", contador)\n",
        "    contador = contador + 1"
      ]
    },
    {
      "cell_type": "markdown",
      "id": "3e5733a0",
      "metadata": {
        "id": "3e5733a0"
      },
      "source": [
        "### 6) Funciones"
      ]
    },
    {
      "cell_type": "code",
      "execution_count": null,
      "id": "fdaeabaf",
      "metadata": {
        "id": "fdaeabaf",
        "outputId": "64f6b357-c806-4771-c12a-952d5303b8cb"
      },
      "outputs": [
        {
          "name": "stdout",
          "output_type": "stream",
          "text": [
            "El resultado de la suma es: 7\n"
          ]
        }
      ],
      "source": [
        "def sumador(a, b):\n",
        "    resultado = a + b\n",
        "    print(\"El resultado de la suma es:\", resultado)\n",
        "\n",
        "sumador(4,3)"
      ]
    },
    {
      "cell_type": "code",
      "execution_count": null,
      "id": "0088ee54",
      "metadata": {
        "id": "0088ee54",
        "outputId": "e6dc0843-f340-4d40-9580-cb7ece1dd1b1"
      },
      "outputs": [
        {
          "name": "stdout",
          "output_type": "stream",
          "text": [
            "El área del círculo con radio 5 es de: 78.53981633974483\n"
          ]
        }
      ],
      "source": [
        "from math import pi\n",
        "\n",
        "def area_circulo(radio):\n",
        "    area = pi * radio ** 2\n",
        "    return area\n",
        "\n",
        "# Ejemplo de uso de la función\n",
        "radio = 5\n",
        "area = area_circulo(radio)\n",
        "print(\"El área del círculo con radio\", radio, \"es de:\", area)"
      ]
    },
    {
      "cell_type": "markdown",
      "id": "7410a295",
      "metadata": {
        "id": "7410a295"
      },
      "source": [
        "### 7) Gráficas"
      ]
    },
    {
      "cell_type": "code",
      "execution_count": null,
      "id": "7bf15fc7",
      "metadata": {
        "id": "7bf15fc7",
        "outputId": "4eea0692-dec5-4024-d29b-caca17814511"
      },
      "outputs": [
        {
          "name": "stdout",
          "output_type": "stream",
          "text": [
            "0.0\n",
            "101\n"
          ]
        },
        {
          "data": {
            "image/png": "[encoded data removed]",
            "text/plain": [
              "<Figure size 432x288 with 1 Axes>"
            ]
          },
          "metadata": {
            "needs_background": "light"
          },
          "output_type": "display_data"
        }
      ],
      "source": [
        "#---------------------#\n",
        "#---Dominio o Malla---#\n",
        "#---------------------#\n",
        "\n",
        "Nr = 100 # Número de pasos\n",
        "rf = 10\n",
        "dr = rf/Nr\n",
        "\n",
        "Dominio = [n*dr for n in range(N+1)]\n",
        "print(Dominio[0])\n",
        "print(len(Dominio))\n",
        "\n",
        "#------------------------------------#\n",
        "#---Generar Valores de una Función---#\n",
        "#------------------------------------#\n",
        "from numpy import sin\n",
        "\n",
        "Ejemplo = [sin(i) for i in Dominio]\n",
        "\n",
        "#----------------#\n",
        "#---Graficamos---#\n",
        "#----------------#\n",
        "import matplotlib.pyplot as plt\n",
        "plt.plot(Dominio, Ejemplo, label='sin(t)')\n",
        "\n",
        "# Agregar etiquetas a los ejes\n",
        "plt.xlabel('r')\n",
        "plt.ylabel('sin(r)')\n",
        "\n",
        "# Agregar un título a la gráfica\n",
        "plt.title('Gráfico de Ejemplo')\n",
        "\n",
        "# Agregar una leyenda\n",
        "plt.legend()\n",
        "\n",
        "# Mostrar el gráfico\n",
        "plt.show()"
      ]
    },
    {
      "cell_type": "markdown",
      "id": "6e5c9808",
      "metadata": {
        "id": "6e5c9808"
      },
      "source": [
        "### 4) Método de Euler para solucionar una EDO de 1° orden\n",
        "\n",
        "La serie de Taylor de de una función $f:[0,t_f] \\rightarrow \\mathcal{R}$ en un punto $t+h$ es:\n",
        "\n",
        "$$ f(t+h) = f(t) + f'(t) + \\dfrac{h^2}{2} f''(t) + \\ldots =  \\sum_{n=0}^{\\infty} \\dfrac{h^n}{n!}f^{(n)}(t) $$\n",
        "\n",
        "\n",
        "En clases pasadas vimos que una EDO de primer orden de la forma:\n",
        "\n",
        "$$ \\dfrac{df(t)}{dt} = \\hat{S}(f(t),t) $$\n",
        "\n",
        "con condiciones $t_0$ y $f(t_0)=f_0$, puede aproximarse a primer orden cortando la serie de Taylor hasta el segundo término, obteniendo la expresión:\n",
        "\n",
        "$$ f(t+h) \\approx f(t) + h \\hat{S}(f(t),t) $$\n",
        "\n",
        "De manera más sugerente, para un un intervalo de tiempo discretizado dado por:\n",
        "\n",
        "$$ \\{ t_n = nh | n = 0, 1, 2, 3 \\ldots, N \\} = \\{ t_0, t_1, t_2, \\ldots, t:N \\} $$\n",
        "\n",
        "podemos escribir\n",
        "\n",
        "$$ f(t_{n+1}) = f(t_n) + h \\hat{S}(f(t_n),t_n) $$\n",
        "\n",
        "que es la expresión que representa el Método de Euler. Vamos a programar esta expresión para el siguiente ejemplo:\n",
        "\n",
        "$$ \\dfrac{df(t)}{dt} = -f^3(t)+\\sin(t) $$\n",
        "\n",
        "en el intervalo $[0,10]$ con condición inicial $f(0) = 0$\n",
        "\n",
        "Pero antes, veámos algunas cosas que necesitaremos."
      ]
    },
    {
      "cell_type": "code",
      "execution_count": null,
      "id": "0ea2e6d9",
      "metadata": {
        "id": "0ea2e6d9",
        "outputId": "6c2bdf91-08fb-4c0d-f192-4d476a57c280"
      },
      "outputs": [
        {
          "data": {
            "image/png": "[encoded data removed]",
            "text/plain": [
              "<Figure size 432x288 with 1 Axes>"
            ]
          },
          "metadata": {
            "needs_background": "light"
          },
          "output_type": "display_data"
        }
      ],
      "source": [
        "N = 100 # Número de pasos\n",
        "tf = 10\n",
        "h = tf/N\n",
        "\n",
        "#---------------------------------#\n",
        "#---Lado Derecho de la Ecuación---#\n",
        "#---------------------------------#\n",
        "\n",
        "def S(f,t):\n",
        "    return -f**3+sin(t)\n",
        "\n",
        "#---------------------#\n",
        "#---Método de Euler---#\n",
        "#---------------------#\n",
        "\n",
        "# Condiciones Iniciales\n",
        "t0, f0 = 0.0, 0.0\n",
        "\n",
        "Tiempo = []\n",
        "Solucion = [] # Aquí albergaremos la solución\n",
        "\n",
        "for n in range(N+1):\n",
        "    t = t0 + n * h  # Actualizar el tiempo en cada iteración\n",
        "    f = f + h * S(f, t)  # Método de Euler\n",
        "    Tiempo.append(t)\n",
        "    Solucion.append(f)\n",
        "\n",
        "plt.plot(Tiempo, Solucion, label='f(t)')\n",
        "\n",
        "# Agregar etiquetas a los ejes\n",
        "plt.xlabel('t')\n",
        "plt.ylabel('f(t)')\n",
        "\n",
        "# Agregar un título a la gráfica\n",
        "plt.title('Solución Numérica por Método de Euler')\n",
        "\n",
        "# Agregar una leyenda\n",
        "plt.legend()\n",
        "\n",
        "# Mostrar el gráfico\n",
        "plt.show()"
      ]
    },
    {
      "cell_type": "code",
      "execution_count": null,
      "id": "3c848d0e",
      "metadata": {
        "id": "3c848d0e"
      },
      "outputs": [],
      "source": []
    }
  ],
  "metadata": {
    "kernelspec": {
      "display_name": "Python 3 (ipykernel)",
      "language": "python",
      "name": "python3"
    },
    "language_info": {
      "codemirror_mode": {
        "name": "ipython",
        "version": 3
      },
      "file_extension": ".py",
      "mimetype": "text/x-python",
      "name": "python",
      "nbconvert_exporter": "python",
      "pygments_lexer": "ipython3",
      "version": "3.11.6"
    },
    "colab": {
      "provenance": [],
      "include_colab_link": true
    }
  },
  "nbformat": 4,
  "nbformat_minor": 5
}